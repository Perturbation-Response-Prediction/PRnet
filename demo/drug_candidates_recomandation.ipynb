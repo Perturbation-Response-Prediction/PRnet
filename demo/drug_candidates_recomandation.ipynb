{
 "cells": [
  {
   "cell_type": "code",
   "execution_count": 7,
   "source": [
    "import os\n",
    "import argparse \n",
    "\n",
    "import pandas as pd\n",
    "import numpy as np\n",
    "import random\n",
    "import scanpy as sc\n",
    "\n",
    "print('Loading data fold change of drug...')\n",
    "\n",
    "drug_fc_mean_df=pd.read_csv('FDA_drug_fold-change_2W.csv', index_col=0)"
   ],
   "outputs": [
    {
     "output_type": "stream",
     "name": "stdout",
     "text": [
      "Loading data fold change of drug...\n"
     ]
    }
   ],
   "metadata": {}
  },
  {
   "cell_type": "code",
   "execution_count": 4,
   "source": [
    "up_gene_list = np.loadtxt('./datasets/disease DEG/Crohn_up.txt', delimiter='\\t', dtype=str)\n",
    "down_gene_list = np.loadtxt('./datasets/disease DEG/Crohn_down.txt', delimiter='\\t', dtype=str)"
   ],
   "outputs": [],
   "metadata": {}
  },
  {
   "cell_type": "code",
   "execution_count": 5,
   "source": [
    "gene_list = drug_fc_mean_df.columns.tolist()\n",
    "up_gene_list_ = up_gene_list.tolist()\n",
    "down_gene_list_ = down_gene_list.tolist()\n",
    "\n",
    "up_gene_list = list(set(gene_list) & set(up_gene_list_))\n",
    "down_gene_list = list(set(gene_list) & set(down_gene_list_))\n",
    "\n",
    "fc_es_array = computecs(down_gene_list,up_gene_list,drug_fc_mean_df.T)[0].values\n",
    "\n",
    "es_df = pd.DataFrame(fc_es_array,index=drug_fc_mean_df.index,columns=['fold-change es'])\n",
    "\n"
   ],
   "outputs": [],
   "metadata": {}
  },
  {
   "cell_type": "code",
   "execution_count": 6,
   "source": [
    "es_df.sort_values(by='fold-change es', ascending=False).head(10) "
   ],
   "outputs": [
    {
     "output_type": "execute_result",
     "data": {
      "text/plain": [
       "              fold-change es\n",
       "Entrectinib         0.339501\n",
       "Omarigliptin        0.334058\n",
       "Escin               0.316475\n",
       "Taladegib           0.313160\n",
       "Pracinostat         0.311445\n",
       "Enasidenib          0.308338\n",
       "Carmustine          0.307211\n",
       "Flavopiridol        0.305444\n",
       "Ozanimod            0.300285\n",
       "Omipalisib          0.299521"
      ],
      "text/html": [
       "<div>\n",
       "<style scoped>\n",
       "    .dataframe tbody tr th:only-of-type {\n",
       "        vertical-align: middle;\n",
       "    }\n",
       "\n",
       "    .dataframe tbody tr th {\n",
       "        vertical-align: top;\n",
       "    }\n",
       "\n",
       "    .dataframe thead th {\n",
       "        text-align: right;\n",
       "    }\n",
       "</style>\n",
       "<table border=\"1\" class=\"dataframe\">\n",
       "  <thead>\n",
       "    <tr style=\"text-align: right;\">\n",
       "      <th></th>\n",
       "      <th>fold-change es</th>\n",
       "    </tr>\n",
       "  </thead>\n",
       "  <tbody>\n",
       "    <tr>\n",
       "      <th>Entrectinib</th>\n",
       "      <td>0.339501</td>\n",
       "    </tr>\n",
       "    <tr>\n",
       "      <th>Omarigliptin</th>\n",
       "      <td>0.334058</td>\n",
       "    </tr>\n",
       "    <tr>\n",
       "      <th>Escin</th>\n",
       "      <td>0.316475</td>\n",
       "    </tr>\n",
       "    <tr>\n",
       "      <th>Taladegib</th>\n",
       "      <td>0.313160</td>\n",
       "    </tr>\n",
       "    <tr>\n",
       "      <th>Pracinostat</th>\n",
       "      <td>0.311445</td>\n",
       "    </tr>\n",
       "    <tr>\n",
       "      <th>Enasidenib</th>\n",
       "      <td>0.308338</td>\n",
       "    </tr>\n",
       "    <tr>\n",
       "      <th>Carmustine</th>\n",
       "      <td>0.307211</td>\n",
       "    </tr>\n",
       "    <tr>\n",
       "      <th>Flavopiridol</th>\n",
       "      <td>0.305444</td>\n",
       "    </tr>\n",
       "    <tr>\n",
       "      <th>Ozanimod</th>\n",
       "      <td>0.300285</td>\n",
       "    </tr>\n",
       "    <tr>\n",
       "      <th>Omipalisib</th>\n",
       "      <td>0.299521</td>\n",
       "    </tr>\n",
       "  </tbody>\n",
       "</table>\n",
       "</div>"
      ]
     },
     "metadata": {},
     "execution_count": 6
    }
   ],
   "metadata": {}
  },
  {
   "cell_type": "code",
   "execution_count": null,
   "source": [],
   "outputs": [],
   "metadata": {}
  }
 ],
 "metadata": {
  "orig_nbformat": 4,
  "language_info": {
   "name": "python",
   "version": "3.7.13",
   "mimetype": "text/x-python",
   "codemirror_mode": {
    "name": "ipython",
    "version": 3
   },
   "pygments_lexer": "ipython3",
   "nbconvert_exporter": "python",
   "file_extension": ".py"
  },
  "kernelspec": {
   "name": "python3",
   "display_name": "Python 3.7.13 64-bit ('GEARS': conda)"
  },
  "interpreter": {
   "hash": "b5167b002a831e44a1d173b0ac7116d8f575dba86faf055af5c69618ac552611"
  }
 },
 "nbformat": 4,
 "nbformat_minor": 2
}